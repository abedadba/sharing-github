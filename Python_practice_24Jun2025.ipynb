{
  "nbformat": 4,
  "nbformat_minor": 0,
  "metadata": {
    "colab": {
      "provenance": [],
      "authorship_tag": "ABX9TyNOYU7HFQYLNtGZVXMdIYGQ",
      "include_colab_link": true
    },
    "kernelspec": {
      "name": "python3",
      "display_name": "Python 3"
    },
    "language_info": {
      "name": "python"
    }
  },
  "cells": [
    {
      "cell_type": "markdown",
      "metadata": {
        "id": "view-in-github",
        "colab_type": "text"
      },
      "source": [
        "<a href=\"https://colab.research.google.com/github/abedadba/sharing-github/blob/main/Python_practice_24Jun2025.ipynb\" target=\"_parent\"><img src=\"https://colab.research.google.com/assets/colab-badge.svg\" alt=\"Open In Colab\"/></a>"
      ]
    },
    {
      "cell_type": "code",
      "source": [
        "print(\"Hello World\")"
      ],
      "metadata": {
        "colab": {
          "base_uri": "https://localhost:8080/"
        },
        "id": "qgu7vdu-yCYr",
        "outputId": "f3534e61-b8b3-4215-8e92-6745a85fa73c"
      },
      "execution_count": null,
      "outputs": [
        {
          "output_type": "stream",
          "name": "stdout",
          "text": [
            "Hello World\n"
          ]
        }
      ]
    },
    {
      "cell_type": "markdown",
      "source": [
        "#Heading 1"
      ],
      "metadata": {
        "id": "L4MdtJL9yPuE"
      }
    },
    {
      "cell_type": "code",
      "execution_count": null,
      "metadata": {
        "colab": {
          "base_uri": "https://localhost:8080/"
        },
        "id": "-12y828IxmHS",
        "outputId": "995eab1f-dece-43df-fb56-736b1cf954ac"
      },
      "outputs": [
        {
          "output_type": "stream",
          "name": "stdout",
          "text": [
            "Hello World\n"
          ]
        }
      ],
      "source": [
        "print(\"Hello World\")"
      ]
    },
    {
      "cell_type": "code",
      "source": [
        "print ('Hello World')"
      ],
      "metadata": {
        "colab": {
          "base_uri": "https://localhost:8080/"
        },
        "id": "-ABHRwGX0V_t",
        "outputId": "501d8695-907f-46b3-879c-9c23498a01e1"
      },
      "execution_count": null,
      "outputs": [
        {
          "output_type": "stream",
          "name": "stdout",
          "text": [
            "Hello World\n"
          ]
        }
      ]
    },
    {
      "cell_type": "code",
      "source": [
        "print(\"Hello Hello\")"
      ],
      "metadata": {
        "colab": {
          "base_uri": "https://localhost:8080/"
        },
        "id": "JuWMq_JP5FXx",
        "outputId": "12148e36-6009-40b8-8c26-f515a3cea0e8"
      },
      "execution_count": null,
      "outputs": [
        {
          "output_type": "stream",
          "name": "stdout",
          "text": [
            "Hello Hello\n"
          ]
        }
      ]
    },
    {
      "cell_type": "code",
      "source": [
        "person={\"name\":\"Abeda\",\"age\":30,\"Job\":\"Data Scientist\"}\n",
        "print(person)\n",
        "print(person[\"name\"])\n",
        "print(\"Job:\",person[\"Job\"])\n",
        "print(\"Age:\",person[\"age\"])\n",
        "print(\"Name:\",person[\"name\"])\n",
        "person[\"salary\"]=10000\n",
        "print(person)"
      ],
      "metadata": {
        "colab": {
          "base_uri": "https://localhost:8080/"
        },
        "id": "_DLYre8EtmpK",
        "outputId": "04067810-c197-4351-be5f-20b1c3903ac0"
      },
      "execution_count": 20,
      "outputs": [
        {
          "output_type": "stream",
          "name": "stdout",
          "text": [
            "{'name': 'Abeda', 'age': 30, 'Job': 'Data Scientist'}\n",
            "Abeda\n",
            "Job: Data Scientist\n",
            "Age: 30\n",
            "Name: Abeda\n",
            "{'name': 'Abeda', 'age': 30, 'Job': 'Data Scientist', 'salary': 10000}\n"
          ]
        }
      ]
    },
    {
      "cell_type": "code",
      "source": [
        "person[\"address\"]=\"Dubai\"\n",
        "print(person)"
      ],
      "metadata": {
        "colab": {
          "base_uri": "https://localhost:8080/"
        },
        "id": "mZ-N4Wt_27Q7",
        "outputId": "9e68486c-3693-4556-a38f-6042616f9cd2"
      },
      "execution_count": 21,
      "outputs": [
        {
          "output_type": "stream",
          "name": "stdout",
          "text": [
            "{'name': 'Abeda', 'age': 30, 'Job': 'Data Scientist', 'salary': 10000, 'address': 'Dubai'}\n"
          ]
        }
      ]
    },
    {
      "cell_type": "code",
      "source": [
        "print(person.keys())\n",
        "print(person.values())"
      ],
      "metadata": {
        "colab": {
          "base_uri": "https://localhost:8080/"
        },
        "id": "KII9JJTS3Npl",
        "outputId": "70f62923-04fa-4d61-f32c-50b6b3a016b1"
      },
      "execution_count": 23,
      "outputs": [
        {
          "output_type": "stream",
          "name": "stdout",
          "text": [
            "dict_keys(['name', 'age', 'Job', 'salary', 'address'])\n",
            "dict_values(['Abeda', 30, 'Data Scientist', 10000, 'Dubai'])\n"
          ]
        }
      ]
    },
    {
      "cell_type": "code",
      "source": [
        "print(person.items())"
      ],
      "metadata": {
        "colab": {
          "base_uri": "https://localhost:8080/"
        },
        "id": "XDiJu2SB3S3F",
        "outputId": "fe52a194-052e-4d85-9631-1e1ed0a24097"
      },
      "execution_count": 24,
      "outputs": [
        {
          "output_type": "stream",
          "name": "stdout",
          "text": [
            "dict_items([('name', 'Abeda'), ('age', 30), ('Job', 'Data Scientist'), ('salary', 10000), ('address', 'Dubai')])\n"
          ]
        }
      ]
    }
  ]
}